{
  "nbformat": 4,
  "nbformat_minor": 0,
  "metadata": {
    "colab": {
      "name": "KNN.ipynb",
      "provenance": [],
      "collapsed_sections": []
    },
    "kernelspec": {
      "name": "python3",
      "display_name": "Python 3"
    },
    "language_info": {
      "name": "python"
    }
  },
  "cells": [
    {
      "cell_type": "code",
      "execution_count": 2,
      "metadata": {
        "id": "X8Okzi4LH82g"
      },
      "outputs": [],
      "source": [
        "from sklearn import datasets\n",
        "from sklearn.neighbors import KNeighborsClassifier , KNeighborsRegressor"
      ]
    },
    {
      "cell_type": "markdown",
      "source": [
        "## Classifier"
      ],
      "metadata": {
        "id": "0y4mejPNIiMz"
      }
    },
    {
      "cell_type": "code",
      "source": [
        "data = datasets.load_digits()\n",
        "X = data.images.reshape((len(data.images), -1))\n",
        "y = data.target"
      ],
      "metadata": {
        "id": "-ImkO7inINHt"
      },
      "execution_count": 3,
      "outputs": []
    },
    {
      "cell_type": "code",
      "source": [
        "# weights : {'uniform', 'distance'}\n",
        "# algorithm : {'auto', 'ball_tree', 'kd_tree', 'brute'}, default='auto'\n",
        "Model = KNeighborsClassifier(n_neighbors=5, weights='uniform', algorithm='ball_tree', leaf_size=30, p=2, metric='minkowski', n_jobs=-1)\n",
        "Model.fit(X, y)"
      ],
      "metadata": {
        "colab": {
          "base_uri": "https://localhost:8080/"
        },
        "id": "BT6Z6GAQIPDs",
        "outputId": "1e7a1dfb-868d-4b23-92ff-00ca0fb5916e"
      },
      "execution_count": 4,
      "outputs": [
        {
          "output_type": "execute_result",
          "data": {
            "text/plain": [
              "KNeighborsClassifier(algorithm='ball_tree', n_jobs=-1)"
            ]
          },
          "metadata": {},
          "execution_count": 4
        }
      ]
    }
  ]
}
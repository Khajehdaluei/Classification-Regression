{
  "nbformat": 4,
  "nbformat_minor": 0,
  "metadata": {
    "colab": {
      "name": "Adaboost.ipynb",
      "provenance": [],
      "collapsed_sections": []
    },
    "kernelspec": {
      "name": "python3",
      "display_name": "Python 3"
    },
    "language_info": {
      "name": "python"
    }
  },
  "cells": [
    {
      "cell_type": "code",
      "execution_count": 1,
      "metadata": {
        "id": "X8Okzi4LH82g"
      },
      "outputs": [],
      "source": [
        "from sklearn import datasets\n",
        "from sklearn.ensemble import AdaBoostClassifier, AdaBoostRegressor"
      ]
    },
    {
      "cell_type": "markdown",
      "source": [
        "## Classifier"
      ],
      "metadata": {
        "id": "0y4mejPNIiMz"
      }
    },
    {
      "cell_type": "code",
      "source": [
        "data = datasets.load_digits()\n",
        "X = data.images.reshape((len(data.images), -1))\n",
        "y = data.target"
      ],
      "metadata": {
        "id": "-ImkO7inINHt"
      },
      "execution_count": 2,
      "outputs": []
    },
    {
      "cell_type": "code",
      "source": [
        "# n_estimators : int, default=100  numbers DecisionTree\n",
        "# learning_rate : float, default=1.0\n",
        "# algorithm : {'SAMME', 'SAMME.R'}, default='SAMME.R'\n",
        "Model = AdaBoostClassifier(n_estimators=100, learning_rate=1.0, algorithm='SAMME.R', random_state=None)\n",
        "Model.fit(X, y)"
      ],
      "metadata": {
        "colab": {
          "base_uri": "https://localhost:8080/"
        },
        "id": "BT6Z6GAQIPDs",
        "outputId": "d4458b23-e31a-4bc6-8bbd-145c27e9ce65"
      },
      "execution_count": 3,
      "outputs": [
        {
          "output_type": "execute_result",
          "data": {
            "text/plain": [
              "AdaBoostClassifier(n_estimators=100)"
            ]
          },
          "metadata": {},
          "execution_count": 3
        }
      ]
    }
  ]
}
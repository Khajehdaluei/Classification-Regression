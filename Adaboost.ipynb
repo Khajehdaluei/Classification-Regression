{
 "cells": [
  {
   "cell_type": "code",
   "execution_count": 3,
   "metadata": {
    "id": "X8Okzi4LH82g"
   },
   "outputs": [],
   "source": [
    "from sklearn import datasets\n",
    "from sklearn.model_selection import train_test_split\n",
    "from sklearn.ensemble import AdaBoostClassifier, AdaBoostRegressor"
   ]
  },
  {
   "cell_type": "markdown",
   "metadata": {
    "id": "0y4mejPNIiMz"
   },
   "source": [
    "## Classifier"
   ]
  },
  {
   "cell_type": "code",
   "execution_count": 4,
   "metadata": {
    "id": "-ImkO7inINHt"
   },
   "outputs": [],
   "source": [
    "data = datasets.load_digits()\n",
    "X = data.images.reshape((len(data.images), -1))\n",
    "y = data.target\n",
    "\n",
    "X_Train, X_Test, y_Train ,y_Test = train_test_split(X, y, test_size=0.33, random_state=42)"
   ]
  },
  {
   "cell_type": "code",
   "execution_count": 20,
   "metadata": {
    "colab": {
     "base_uri": "https://localhost:8080/"
    },
    "id": "BT6Z6GAQIPDs",
    "outputId": "d4458b23-e31a-4bc6-8bbd-145c27e9ce65"
   },
   "outputs": [
    {
     "data": {
      "text/plain": [
       "AdaBoostClassifier(learning_rate=0.01, n_estimators=100)"
      ]
     },
     "execution_count": 20,
     "metadata": {},
     "output_type": "execute_result"
    }
   ],
   "source": [
    "# n_estimators : int, default=100  numbers DecisionTree\n",
    "# learning_rate : float, default=1.0\n",
    "# algorithm : {'SAMME', 'SAMME.R'}, default='SAMME.R'\n",
    "Model = AdaBoostClassifier(n_estimators=100, learning_rate=0.01, algorithm='SAMME.R', random_state=None)\n",
    "Model.fit(X_Train, y_Train)"
   ]
  },
  {
   "cell_type": "code",
   "execution_count": 22,
   "metadata": {},
   "outputs": [
    {
     "data": {
      "text/plain": [
       "0.7138047138047138"
      ]
     },
     "execution_count": 22,
     "metadata": {},
     "output_type": "execute_result"
    }
   ],
   "source": [
    "Model.score(X_Test, y_Test)"
   ]
  }
 ],
 "metadata": {
  "colab": {
   "collapsed_sections": [],
   "name": "Adaboost.ipynb",
   "provenance": []
  },
  "kernelspec": {
   "display_name": "Python 3 (ipykernel)",
   "language": "python",
   "name": "python3"
  },
  "language_info": {
   "codemirror_mode": {
    "name": "ipython",
    "version": 3
   },
   "file_extension": ".py",
   "mimetype": "text/x-python",
   "name": "python",
   "nbconvert_exporter": "python",
   "pygments_lexer": "ipython3",
   "version": "3.9.7"
  }
 },
 "nbformat": 4,
 "nbformat_minor": 1
}

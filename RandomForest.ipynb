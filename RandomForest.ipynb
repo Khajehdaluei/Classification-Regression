{
  "nbformat": 4,
  "nbformat_minor": 0,
  "metadata": {
    "colab": {
      "name": "RandomForest.ipynb",
      "provenance": [],
      "collapsed_sections": []
    },
    "kernelspec": {
      "name": "python3",
      "display_name": "Python 3"
    },
    "language_info": {
      "name": "python"
    }
  },
  "cells": [
    {
      "cell_type": "code",
      "execution_count": 1,
      "metadata": {
        "id": "X8Okzi4LH82g"
      },
      "outputs": [],
      "source": [
        "from sklearn import datasets\n",
        "from sklearn.ensemble import RandomForestClassifier ,RandomForestRegressor , RandomTreesEmbedding "
      ]
    },
    {
      "cell_type": "markdown",
      "source": [
        "## Classifier"
      ],
      "metadata": {
        "id": "0y4mejPNIiMz"
      }
    },
    {
      "cell_type": "code",
      "source": [
        "data = datasets.load_digits()\n",
        "X = data.images.reshape((len(data.images), -1))\n",
        "y = data.target"
      ],
      "metadata": {
        "id": "-ImkO7inINHt"
      },
      "execution_count": 2,
      "outputs": []
    },
    {
      "cell_type": "code",
      "source": [
        "# n_estimators : int, default=100  numbers DecisionTree\n",
        "# criterion : {\"gini\", \"entropy\"}, default=\"gini\"\n",
        "# max_depth : int, default=None\n",
        "# min_samples_split : int or float, default=2\n",
        "# min_samples_leaf : int or float, default=1\n",
        "# min_weight_fraction_leaf : float, default=0.0\n",
        "# bootstrap : bool, default=True\n",
        "# class_weight : dict, list of dict or \"balanced\", default=None\n",
        "Model = RandomForestClassifier(n_estimators=100,criterion='gini', max_depth=None, min_samples_split=2, min_samples_leaf=1, min_weight_fraction_leaf=0.0, bootstrap=True, n_jobs=None, random_state=None, verbose=0, class_weight=None)\n",
        "Model.fit(X, y)"
      ],
      "metadata": {
        "colab": {
          "base_uri": "https://localhost:8080/"
        },
        "id": "BT6Z6GAQIPDs",
        "outputId": "f96cad9c-8e34-49c9-de48-dfc2928e992a"
      },
      "execution_count": 6,
      "outputs": [
        {
          "output_type": "execute_result",
          "data": {
            "text/plain": [
              "RandomForestClassifier()"
            ]
          },
          "metadata": {},
          "execution_count": 6
        }
      ]
    }
  ]
}
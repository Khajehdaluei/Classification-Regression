{
 "cells": [
  {
   "cell_type": "code",
   "execution_count": 1,
   "metadata": {
    "id": "X8Okzi4LH82g"
   },
   "outputs": [],
   "source": [
    "from sklearn import datasets\n",
    "from sklearn.model_selection import train_test_split\n",
    "from sklearn.ensemble import RandomForestClassifier ,RandomForestRegressor , RandomTreesEmbedding "
   ]
  },
  {
   "cell_type": "markdown",
   "metadata": {
    "id": "0y4mejPNIiMz"
   },
   "source": [
    "## Classifier"
   ]
  },
  {
   "cell_type": "code",
   "execution_count": 2,
   "metadata": {
    "id": "-ImkO7inINHt"
   },
   "outputs": [],
   "source": [
    "data = datasets.load_digits()\n",
    "X = data.images.reshape((len(data.images), -1))\n",
    "y = data.target\n",
    "\n",
    "X_Train, X_Test, y_Train ,y_Test = train_test_split(X, y, test_size=0.33, random_state=42)"
   ]
  },
  {
   "cell_type": "code",
   "execution_count": 3,
   "metadata": {
    "colab": {
     "base_uri": "https://localhost:8080/"
    },
    "id": "BT6Z6GAQIPDs",
    "outputId": "f96cad9c-8e34-49c9-de48-dfc2928e992a"
   },
   "outputs": [
    {
     "data": {
      "text/plain": [
       "RandomForestClassifier()"
      ]
     },
     "execution_count": 3,
     "metadata": {},
     "output_type": "execute_result"
    }
   ],
   "source": [
    "# n_estimators : int, default=100  numbers DecisionTree\n",
    "# criterion : {\"gini\", \"entropy\"}, default=\"gini\"\n",
    "# max_depth : int, default=None\n",
    "# min_samples_split : int or float, default=2\n",
    "# min_samples_leaf : int or float, default=1\n",
    "# min_weight_fraction_leaf : float, default=0.0\n",
    "# bootstrap : bool, default=True\n",
    "# class_weight : dict, list of dict or \"balanced\", default=None\n",
    "Model = RandomForestClassifier(n_estimators=100,criterion='gini', max_depth=None, min_samples_split=2, min_samples_leaf=1, min_weight_fraction_leaf=0.0, bootstrap=True, n_jobs=None, random_state=None, verbose=0, class_weight=None)\n",
    "Model.fit(X, y)"
   ]
  },
  {
   "cell_type": "code",
   "execution_count": 4,
   "metadata": {},
   "outputs": [
    {
     "data": {
      "text/plain": [
       "1.0"
      ]
     },
     "execution_count": 4,
     "metadata": {},
     "output_type": "execute_result"
    }
   ],
   "source": [
    "Model.score(X_Test, y_Test)"
   ]
  }
 ],
 "metadata": {
  "colab": {
   "collapsed_sections": [],
   "name": "RandomForest.ipynb",
   "provenance": []
  },
  "kernelspec": {
   "display_name": "Python 3 (ipykernel)",
   "language": "python",
   "name": "python3"
  },
  "language_info": {
   "codemirror_mode": {
    "name": "ipython",
    "version": 3
   },
   "file_extension": ".py",
   "mimetype": "text/x-python",
   "name": "python",
   "nbconvert_exporter": "python",
   "pygments_lexer": "ipython3",
   "version": "3.9.7"
  }
 },
 "nbformat": 4,
 "nbformat_minor": 1
}

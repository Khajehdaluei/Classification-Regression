{
  "nbformat": 4,
  "nbformat_minor": 0,
  "metadata": {
    "colab": {
      "name": "Accuracy.ipynb",
      "provenance": [],
      "collapsed_sections": []
    },
    "kernelspec": {
      "name": "python3",
      "display_name": "Python 3"
    },
    "language_info": {
      "name": "python"
    }
  },
  "cells": [
    {
      "cell_type": "markdown",
      "source": [
        "# Start"
      ],
      "metadata": {
        "id": "OHZNYOzm9kqE"
      }
    },
    {
      "cell_type": "code",
      "execution_count": 10,
      "metadata": {
        "id": "Yi7bKxkw89r7"
      },
      "outputs": [],
      "source": [
        "from sklearn import datasets\n",
        "from sklearn.neighbors import KNeighborsClassifier\n",
        "from sklearn import metrics\n",
        "import numpy as np\n",
        "import matplotlib.pyplot as plt"
      ]
    },
    {
      "cell_type": "code",
      "source": [
        "data = datasets.load_digits()\n",
        "X = data.images.reshape((len(data.images), -1))\n",
        "y = data.target\n",
        "\n",
        "X_Train = X[:1000]\n",
        "X_Test = X[1000:]\n",
        "y_Train = y[:1000]\n",
        "y_Test = y[1000:]"
      ],
      "metadata": {
        "id": "OYSrCxTW-8ny"
      },
      "execution_count": 45,
      "outputs": []
    },
    {
      "cell_type": "code",
      "source": [
        "Model = KNeighborsClassifier()\n",
        "Model.fit(X_Train , y_Train)"
      ],
      "metadata": {
        "colab": {
          "base_uri": "https://localhost:8080/"
        },
        "id": "k2tbDYzZ_wHj",
        "outputId": "e2ec5ad5-0a0a-42f9-86c8-4150ac0ec526"
      },
      "execution_count": 47,
      "outputs": [
        {
          "output_type": "execute_result",
          "data": {
            "text/plain": [
              "KNeighborsClassifier()"
            ]
          },
          "metadata": {},
          "execution_count": 47
        }
      ]
    },
    {
      "cell_type": "markdown",
      "source": [
        "#Classifier"
      ],
      "metadata": {
        "id": "queG5PNjHWQi"
      }
    },
    {
      "cell_type": "markdown",
      "source": [
        "##Predict"
      ],
      "metadata": {
        "id": "d8-aJTxD992k"
      }
    },
    {
      "cell_type": "code",
      "source": [
        "predict = Model.predict(X_Test)\n",
        "target = y_Test\n",
        "\n",
        "# predict=[]\n",
        "# for i in range(predict_.shape[0]):\n",
        "#     predict.append(np.argmax(predict_[i]))\n",
        "\n",
        "# target=[]\n",
        "# for i in range(target_.shape[0]):\n",
        "#     target.append(np.argmax(target_[i]))"
      ],
      "metadata": {
        "id": "7-fVhj46-BKV"
      },
      "execution_count": 54,
      "outputs": []
    },
    {
      "cell_type": "markdown",
      "source": [
        "##Accuracy"
      ],
      "metadata": {
        "id": "ZNBgmYT79pH0"
      }
    },
    {
      "cell_type": "code",
      "source": [
        "metrics.accuracy_score(target,predict)"
      ],
      "metadata": {
        "colab": {
          "base_uri": "https://localhost:8080/"
        },
        "id": "39s6eWe_9z2e",
        "outputId": "f9a46f68-4788-4d95-e57c-01bac6ec0774"
      },
      "execution_count": 55,
      "outputs": [
        {
          "output_type": "execute_result",
          "data": {
            "text/plain": [
              "0.9573400250941029"
            ]
          },
          "metadata": {},
          "execution_count": 55
        }
      ]
    },
    {
      "cell_type": "markdown",
      "source": [
        "##Classification Report"
      ],
      "metadata": {
        "id": "uTE_eW7IG39h"
      }
    },
    {
      "cell_type": "code",
      "source": [
        "print(metrics.classification_report(target,predict))"
      ],
      "metadata": {
        "colab": {
          "base_uri": "https://localhost:8080/"
        },
        "id": "-qybuOOXDy3d",
        "outputId": "c0ff2999-7128-4498-8f4e-32b319f849fe"
      },
      "execution_count": 56,
      "outputs": [
        {
          "output_type": "stream",
          "name": "stdout",
          "text": [
            "              precision    recall  f1-score   support\n",
            "\n",
            "           0       0.99      1.00      0.99        79\n",
            "           1       0.95      0.97      0.96        80\n",
            "           2       0.97      0.94      0.95        77\n",
            "           3       0.91      0.90      0.90        79\n",
            "           4       1.00      0.95      0.98        83\n",
            "           5       0.94      0.99      0.96        82\n",
            "           6       0.99      1.00      0.99        80\n",
            "           7       0.94      1.00      0.97        80\n",
            "           8       0.95      0.91      0.93        76\n",
            "           9       0.94      0.91      0.92        81\n",
            "\n",
            "    accuracy                           0.96       797\n",
            "   macro avg       0.96      0.96      0.96       797\n",
            "weighted avg       0.96      0.96      0.96       797\n",
            "\n"
          ]
        }
      ]
    },
    {
      "cell_type": "markdown",
      "source": [
        "##Confusion Matrix"
      ],
      "metadata": {
        "id": "xl8_vYGWG9JR"
      }
    },
    {
      "cell_type": "code",
      "source": [
        "confusion_matrix_ = metrics.confusion_matrix(target,predict)\n",
        "confusion_matrix_"
      ],
      "metadata": {
        "colab": {
          "base_uri": "https://localhost:8080/"
        },
        "id": "jg_50L2kExMX",
        "outputId": "a69975f0-829e-4215-f821-08fa4e6d3c55"
      },
      "execution_count": 60,
      "outputs": [
        {
          "output_type": "execute_result",
          "data": {
            "text/plain": [
              "array([[79,  0,  0,  0,  0,  0,  0,  0,  0,  0],\n",
              "       [ 0, 78,  0,  0,  0,  0,  0,  0,  1,  1],\n",
              "       [ 1,  0, 72,  4,  0,  0,  0,  0,  0,  0],\n",
              "       [ 0,  0,  1, 71,  0,  2,  0,  3,  2,  0],\n",
              "       [ 0,  0,  0,  0, 79,  0,  0,  1,  0,  3],\n",
              "       [ 0,  0,  0,  0,  0, 81,  1,  0,  0,  0],\n",
              "       [ 0,  0,  0,  0,  0,  0, 80,  0,  0,  0],\n",
              "       [ 0,  0,  0,  0,  0,  0,  0, 80,  0,  0],\n",
              "       [ 0,  4,  1,  0,  0,  0,  0,  1, 69,  1],\n",
              "       [ 0,  0,  0,  3,  0,  3,  0,  0,  1, 74]])"
            ]
          },
          "metadata": {},
          "execution_count": 60
        }
      ]
    },
    {
      "cell_type": "code",
      "source": [
        "labels = ['0','1','2 ','3','4','5','6','7','8','9']\n",
        "\n",
        "confusion_matrix = metrics.ConfusionMatrixDisplay(confusion_matrix=confusion_matrix_, display_labels=labels)\n",
        "\n",
        "fig, ax = plt.subplots(figsize=(12,12))\n",
        "\n",
        "confusion_matrix.plot(ax=ax,cmap=plt.cm.Blues)\n",
        "\n",
        "plt.show()"
      ],
      "metadata": {
        "colab": {
          "base_uri": "https://localhost:8080/",
          "height": 689
        },
        "id": "HxljSWudFLWz",
        "outputId": "2114268f-0e52-4fb1-a2a7-88895017bebe"
      },
      "execution_count": 62,
      "outputs": [
        {
          "output_type": "display_data",
          "data": {
            "text/plain": [
              "<Figure size 864x864 with 2 Axes>"
            ],
            "image/png": "[encoded data removed]"
          },
          "metadata": {
            "needs_background": "light"
          }
        }
      ]
    }
  ]
}
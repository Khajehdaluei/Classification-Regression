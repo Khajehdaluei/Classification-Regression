{
 "cells": [
  {
   "cell_type": "markdown",
   "metadata": {
    "id": "OHZNYOzm9kqE"
   },
   "source": [
    "# Start"
   ]
  },
  {
   "cell_type": "code",
   "execution_count": 1,
   "metadata": {
    "id": "Yi7bKxkw89r7"
   },
   "outputs": [],
   "source": [
    "from sklearn import datasets\n",
    "from sklearn.model_selection import train_test_split\n",
    "from sklearn.neighbors import KNeighborsClassifier , KNeighborsRegressor\n",
    "from sklearn import metrics\n",
    "import numpy as np\n",
    "import matplotlib.pyplot as plt"
   ]
  },
  {
   "cell_type": "code",
   "execution_count": 2,
   "metadata": {
    "id": "OYSrCxTW-8ny"
   },
   "outputs": [],
   "source": [
    "data = datasets.load_digits()\n",
    "X = data.images.reshape((len(data.images), -1))\n",
    "y = data.target\n",
    "\n",
    "X_TrainC, X_TestC, y_TrainC ,y_TestC = train_test_split(X, y, test_size=0.33, random_state=42)\n",
    "\n",
    "# X_Train = X[:1000]\n",
    "# X_Test = X[1000:]\n",
    "# y_Train = y[:1000]\n",
    "# y_Test = y[1000:]\n"
   ]
  },
  {
   "cell_type": "code",
   "execution_count": 3,
   "metadata": {
    "colab": {
     "base_uri": "https://localhost:8080/"
    },
    "id": "k2tbDYzZ_wHj",
    "outputId": "e2ec5ad5-0a0a-42f9-86c8-4150ac0ec526"
   },
   "outputs": [
    {
     "data": {
      "text/plain": [
       "KNeighborsClassifier()"
      ]
     },
     "execution_count": 3,
     "metadata": {},
     "output_type": "execute_result"
    }
   ],
   "source": [
    "clf = KNeighborsClassifier()\n",
    "clf.fit(X_TrainC , y_TrainC)"
   ]
  },
  {
   "cell_type": "code",
   "execution_count": 4,
   "metadata": {},
   "outputs": [],
   "source": [
    "data = datasets.make_regression(n_samples=1000,n_features=2,n_targets=1,bias=5,noise=10,shuffle=True,random_state=1)\n",
    "X,y = data\n",
    "\n",
    "X_TrainR, X_TestR, y_TrainR ,y_TestR = train_test_split(X, y, test_size=0.33, random_state=42)"
   ]
  },
  {
   "cell_type": "code",
   "execution_count": 5,
   "metadata": {},
   "outputs": [
    {
     "data": {
      "text/plain": [
       "KNeighborsRegressor()"
      ]
     },
     "execution_count": 5,
     "metadata": {},
     "output_type": "execute_result"
    }
   ],
   "source": [
    "reg = KNeighborsRegressor(n_neighbors=5)\n",
    "reg.fit(X_TrainR, y_TrainR)"
   ]
  },
  {
   "cell_type": "markdown",
   "metadata": {
    "id": "d8-aJTxD992k"
   },
   "source": [
    "## Predict"
   ]
  },
  {
   "cell_type": "code",
   "execution_count": 6,
   "metadata": {
    "id": "7-fVhj46-BKV"
   },
   "outputs": [],
   "source": [
    "predictC = clf.predict(X_TestC)\n",
    "targetC = y_TestC\n",
    "\n",
    "# predict=[]\n",
    "# for i in range(predict_.shape[0]):\n",
    "#     predict.append(np.argmax(predict_[i]))\n",
    "\n",
    "# target=[]\n",
    "# for i in range(target_.shape[0]):\n",
    "#     target.append(np.argmax(target_[i]))"
   ]
  },
  {
   "cell_type": "code",
   "execution_count": 7,
   "metadata": {},
   "outputs": [],
   "source": [
    "predictR = reg.predict(X_TestR)\n",
    "targetR = y_TestR"
   ]
  },
  {
   "cell_type": "markdown",
   "metadata": {},
   "source": [
    "# Regression"
   ]
  },
  {
   "cell_type": "code",
   "execution_count": null,
   "metadata": {},
   "outputs": [],
   "source": [
    "y_train = np.log(y_train)\n",
    "data['loss'] = np.exp(model.predict(X_test))"
   ]
  },
  {
   "cell_type": "code",
   "execution_count": 8,
   "metadata": {},
   "outputs": [
    {
     "data": {
      "text/plain": [
       "10.557980042922319"
      ]
     },
     "execution_count": 8,
     "metadata": {},
     "output_type": "execute_result"
    }
   ],
   "source": [
    "metrics.mean_absolute_error(targetR, predictR)"
   ]
  },
  {
   "cell_type": "code",
   "execution_count": 9,
   "metadata": {},
   "outputs": [
    {
     "data": {
      "text/plain": [
       "45.78404997934625"
      ]
     },
     "execution_count": 9,
     "metadata": {},
     "output_type": "execute_result"
    }
   ],
   "source": [
    "metrics.max_error(targetR, predictR)"
   ]
  },
  {
   "cell_type": "code",
   "execution_count": 10,
   "metadata": {},
   "outputs": [
    {
     "data": {
      "text/plain": [
       "0.9779809495959377"
      ]
     },
     "execution_count": 10,
     "metadata": {},
     "output_type": "execute_result"
    }
   ],
   "source": [
    "metrics.r2_score(targetR, predictR)"
   ]
  },
  {
   "cell_type": "markdown",
   "metadata": {
    "id": "queG5PNjHWQi"
   },
   "source": [
    "# Classifier"
   ]
  },
  {
   "cell_type": "markdown",
   "metadata": {
    "id": "ZNBgmYT79pH0"
   },
   "source": [
    "## Accuracy"
   ]
  },
  {
   "cell_type": "code",
   "execution_count": 11,
   "metadata": {
    "colab": {
     "base_uri": "https://localhost:8080/"
    },
    "id": "39s6eWe_9z2e",
    "outputId": "f9a46f68-4788-4d95-e57c-01bac6ec0774"
   },
   "outputs": [
    {
     "data": {
      "text/plain": [
       "0.9932659932659933"
      ]
     },
     "execution_count": 11,
     "metadata": {},
     "output_type": "execute_result"
    }
   ],
   "source": [
    "metrics.accuracy_score(targetC,predictC)"
   ]
  },
  {
   "cell_type": "markdown",
   "metadata": {
    "id": "uTE_eW7IG39h"
   },
   "source": [
    "## Classification Report"
   ]
  },
  {
   "cell_type": "code",
   "execution_count": 12,
   "metadata": {
    "colab": {
     "base_uri": "https://localhost:8080/"
    },
    "id": "-qybuOOXDy3d",
    "outputId": "c0ff2999-7128-4498-8f4e-32b319f849fe"
   },
   "outputs": [
    {
     "name": "stdout",
     "output_type": "stream",
     "text": [
      "              precision    recall  f1-score   support\n",
      "\n",
      "           0       1.00      1.00      1.00        55\n",
      "           1       1.00      1.00      1.00        55\n",
      "           2       1.00      1.00      1.00        52\n",
      "           3       0.98      1.00      0.99        56\n",
      "           4       0.98      1.00      0.99        64\n",
      "           5       0.99      0.99      0.99        73\n",
      "           6       1.00      1.00      1.00        57\n",
      "           7       1.00      1.00      1.00        62\n",
      "           8       1.00      1.00      1.00        52\n",
      "           9       0.98      0.96      0.97        68\n",
      "\n",
      "    accuracy                           0.99       594\n",
      "   macro avg       0.99      0.99      0.99       594\n",
      "weighted avg       0.99      0.99      0.99       594\n",
      "\n"
     ]
    }
   ],
   "source": [
    "print(metrics.classification_report(targetC,predictC))"
   ]
  },
  {
   "cell_type": "markdown",
   "metadata": {
    "id": "xl8_vYGWG9JR"
   },
   "source": [
    "## Confusion Matrix"
   ]
  },
  {
   "cell_type": "code",
   "execution_count": 13,
   "metadata": {
    "colab": {
     "base_uri": "https://localhost:8080/"
    },
    "id": "jg_50L2kExMX",
    "outputId": "a69975f0-829e-4215-f821-08fa4e6d3c55"
   },
   "outputs": [
    {
     "data": {
      "text/plain": [
       "array([[55,  0,  0,  0,  0,  0,  0,  0,  0,  0],\n",
       "       [ 0, 55,  0,  0,  0,  0,  0,  0,  0,  0],\n",
       "       [ 0,  0, 52,  0,  0,  0,  0,  0,  0,  0],\n",
       "       [ 0,  0,  0, 56,  0,  0,  0,  0,  0,  0],\n",
       "       [ 0,  0,  0,  0, 64,  0,  0,  0,  0,  0],\n",
       "       [ 0,  0,  0,  0,  0, 72,  0,  0,  0,  1],\n",
       "       [ 0,  0,  0,  0,  0,  0, 57,  0,  0,  0],\n",
       "       [ 0,  0,  0,  0,  0,  0,  0, 62,  0,  0],\n",
       "       [ 0,  0,  0,  0,  0,  0,  0,  0, 52,  0],\n",
       "       [ 0,  0,  0,  1,  1,  1,  0,  0,  0, 65]], dtype=int64)"
      ]
     },
     "execution_count": 13,
     "metadata": {},
     "output_type": "execute_result"
    }
   ],
   "source": [
    "confusion_matrix_ = metrics.confusion_matrix(targetC,predictC)\n",
    "confusion_matrix_"
   ]
  },
  {
   "cell_type": "code",
   "execution_count": 14,
   "metadata": {
    "colab": {
     "base_uri": "https://localhost:8080/",
     "height": 689
    },
    "id": "HxljSWudFLWz",
    "outputId": "2114268f-0e52-4fb1-a2a7-88895017bebe"
   },
   "outputs": [
    {
     "data": {
      "image/png": "[encoded data removed]",
      "text/plain": [
       "<Figure size 864x864 with 2 Axes>"
      ]
     },
     "metadata": {
      "needs_background": "light"
     },
     "output_type": "display_data"
    }
   ],
   "source": [
    "labels = ['0','1','2 ','3','4','5','6','7','8','9']\n",
    "\n",
    "confusion_matrix = metrics.ConfusionMatrixDisplay(confusion_matrix=confusion_matrix_, display_labels=labels)\n",
    "\n",
    "fig, ax = plt.subplots(figsize=(12,12))\n",
    "\n",
    "confusion_matrix.plot(ax=ax,cmap=plt.cm.Blues)\n",
    "\n",
    "plt.show()"
   ]
  }
 ],
 "metadata": {
  "colab": {
   "collapsed_sections": [],
   "name": "Accuracy.ipynb",
   "provenance": []
  },
  "kernelspec": {
   "display_name": "Python 3 (ipykernel)",
   "language": "python",
   "name": "python3"
  },
  "language_info": {
   "codemirror_mode": {
    "name": "ipython",
    "version": 3
   },
   "file_extension": ".py",
   "mimetype": "text/x-python",
   "name": "python",
   "nbconvert_exporter": "python",
   "pygments_lexer": "ipython3",
   "version": "3.9.7"
  }
 },
 "nbformat": 4,
 "nbformat_minor": 1
}
